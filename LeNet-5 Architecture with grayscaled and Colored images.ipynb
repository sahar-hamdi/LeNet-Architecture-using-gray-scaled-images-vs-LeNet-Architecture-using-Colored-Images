{
  "nbformat": 4,
  "nbformat_minor": 0,
  "metadata": {
    "colab": {
      "provenance": []
    },
    "kernelspec": {
      "name": "python3",
      "display_name": "Python 3"
    },
    "language_info": {
      "name": "python"
    }
  },
  "cells": [
    {
      "cell_type": "markdown",
      "source": [
        "# **Import Libraries**"
      ],
      "metadata": {
        "id": "eYO8S2rfA3Rx"
      }
    },
    {
      "cell_type": "code",
      "execution_count": null,
      "metadata": {
        "id": "sayiDL11uly8"
      },
      "outputs": [],
      "source": [
        "import numpy as np\n",
        "import pandas as pd\n",
        "import matplotlib.pyplot as plt\n",
        "import tensorflow as tf\n",
        "from sklearn.model_selection import train_test_split\n",
        "from sklearn.metrics import confusion_matrix, precision_recall_fscore_support\n",
        "from tensorflow.keras.models import Sequential\n",
        "from tensorflow.keras.layers import Conv2D, AveragePooling2D, Flatten, Dense\n"
      ]
    },
    {
      "cell_type": "markdown",
      "source": [
        "# **Import MNIST Dataset**"
      ],
      "metadata": {
        "id": "SQsw22gnePV2"
      }
    },
    {
      "cell_type": "code",
      "source": [
        "df = tf.keras.datasets.mnist"
      ],
      "metadata": {
        "id": "sDWmEm8Djlwe"
      },
      "execution_count": null,
      "outputs": []
    },
    {
      "cell_type": "markdown",
      "source": [
        "# **Load Dataset**"
      ],
      "metadata": {
        "id": "xu_XU5snm_nx"
      }
    },
    {
      "cell_type": "code",
      "source": [
        "(x_train , y_train) , (x_test , y_test) = df.load_data()"
      ],
      "metadata": {
        "id": "cW99UO9dnD9z"
      },
      "execution_count": null,
      "outputs": []
    },
    {
      "cell_type": "markdown",
      "source": [
        "#**Data Preprocessing**"
      ],
      "metadata": {
        "id": "yieVl_PXoCHr"
      }
    },
    {
      "cell_type": "code",
      "source": [
        "# Reshape X_train\n",
        "x_train = x_train.reshape(x_train.shape[0] , 28 , 28 , 1).astype('float32')\n",
        "\n",
        "# x_train Normalization\n",
        "x_train = x_train / 255\n",
        "\n",
        "\n",
        "# Reshape X_test\n",
        "x_test = x_test.reshape(x_test.shape[0] , 28 , 28 , 1).astype('float32')\n",
        "\n",
        "# x_test Normalization\n",
        "x_test =x_test / 255"
      ],
      "metadata": {
        "id": "ec6H1PFfoRdm"
      },
      "execution_count": null,
      "outputs": []
    },
    {
      "cell_type": "code",
      "source": [
        "x_train"
      ],
      "metadata": {
        "colab": {
          "base_uri": "https://localhost:8080/"
        },
        "id": "IJmXEPnZzmHQ",
        "outputId": "5dd75bde-3d12-446f-e0af-f1995ce96236"
      },
      "execution_count": null,
      "outputs": [
        {
          "output_type": "execute_result",
          "data": {
            "text/plain": [
              "array([[[[0.],\n",
              "         [0.],\n",
              "         [0.],\n",
              "         ...,\n",
              "         [0.],\n",
              "         [0.],\n",
              "         [0.]],\n",
              "\n",
              "        [[0.],\n",
              "         [0.],\n",
              "         [0.],\n",
              "         ...,\n",
              "         [0.],\n",
              "         [0.],\n",
              "         [0.]],\n",
              "\n",
              "        [[0.],\n",
              "         [0.],\n",
              "         [0.],\n",
              "         ...,\n",
              "         [0.],\n",
              "         [0.],\n",
              "         [0.]],\n",
              "\n",
              "        ...,\n",
              "\n",
              "        [[0.],\n",
              "         [0.],\n",
              "         [0.],\n",
              "         ...,\n",
              "         [0.],\n",
              "         [0.],\n",
              "         [0.]],\n",
              "\n",
              "        [[0.],\n",
              "         [0.],\n",
              "         [0.],\n",
              "         ...,\n",
              "         [0.],\n",
              "         [0.],\n",
              "         [0.]],\n",
              "\n",
              "        [[0.],\n",
              "         [0.],\n",
              "         [0.],\n",
              "         ...,\n",
              "         [0.],\n",
              "         [0.],\n",
              "         [0.]]],\n",
              "\n",
              "\n",
              "       [[[0.],\n",
              "         [0.],\n",
              "         [0.],\n",
              "         ...,\n",
              "         [0.],\n",
              "         [0.],\n",
              "         [0.]],\n",
              "\n",
              "        [[0.],\n",
              "         [0.],\n",
              "         [0.],\n",
              "         ...,\n",
              "         [0.],\n",
              "         [0.],\n",
              "         [0.]],\n",
              "\n",
              "        [[0.],\n",
              "         [0.],\n",
              "         [0.],\n",
              "         ...,\n",
              "         [0.],\n",
              "         [0.],\n",
              "         [0.]],\n",
              "\n",
              "        ...,\n",
              "\n",
              "        [[0.],\n",
              "         [0.],\n",
              "         [0.],\n",
              "         ...,\n",
              "         [0.],\n",
              "         [0.],\n",
              "         [0.]],\n",
              "\n",
              "        [[0.],\n",
              "         [0.],\n",
              "         [0.],\n",
              "         ...,\n",
              "         [0.],\n",
              "         [0.],\n",
              "         [0.]],\n",
              "\n",
              "        [[0.],\n",
              "         [0.],\n",
              "         [0.],\n",
              "         ...,\n",
              "         [0.],\n",
              "         [0.],\n",
              "         [0.]]],\n",
              "\n",
              "\n",
              "       [[[0.],\n",
              "         [0.],\n",
              "         [0.],\n",
              "         ...,\n",
              "         [0.],\n",
              "         [0.],\n",
              "         [0.]],\n",
              "\n",
              "        [[0.],\n",
              "         [0.],\n",
              "         [0.],\n",
              "         ...,\n",
              "         [0.],\n",
              "         [0.],\n",
              "         [0.]],\n",
              "\n",
              "        [[0.],\n",
              "         [0.],\n",
              "         [0.],\n",
              "         ...,\n",
              "         [0.],\n",
              "         [0.],\n",
              "         [0.]],\n",
              "\n",
              "        ...,\n",
              "\n",
              "        [[0.],\n",
              "         [0.],\n",
              "         [0.],\n",
              "         ...,\n",
              "         [0.],\n",
              "         [0.],\n",
              "         [0.]],\n",
              "\n",
              "        [[0.],\n",
              "         [0.],\n",
              "         [0.],\n",
              "         ...,\n",
              "         [0.],\n",
              "         [0.],\n",
              "         [0.]],\n",
              "\n",
              "        [[0.],\n",
              "         [0.],\n",
              "         [0.],\n",
              "         ...,\n",
              "         [0.],\n",
              "         [0.],\n",
              "         [0.]]],\n",
              "\n",
              "\n",
              "       ...,\n",
              "\n",
              "\n",
              "       [[[0.],\n",
              "         [0.],\n",
              "         [0.],\n",
              "         ...,\n",
              "         [0.],\n",
              "         [0.],\n",
              "         [0.]],\n",
              "\n",
              "        [[0.],\n",
              "         [0.],\n",
              "         [0.],\n",
              "         ...,\n",
              "         [0.],\n",
              "         [0.],\n",
              "         [0.]],\n",
              "\n",
              "        [[0.],\n",
              "         [0.],\n",
              "         [0.],\n",
              "         ...,\n",
              "         [0.],\n",
              "         [0.],\n",
              "         [0.]],\n",
              "\n",
              "        ...,\n",
              "\n",
              "        [[0.],\n",
              "         [0.],\n",
              "         [0.],\n",
              "         ...,\n",
              "         [0.],\n",
              "         [0.],\n",
              "         [0.]],\n",
              "\n",
              "        [[0.],\n",
              "         [0.],\n",
              "         [0.],\n",
              "         ...,\n",
              "         [0.],\n",
              "         [0.],\n",
              "         [0.]],\n",
              "\n",
              "        [[0.],\n",
              "         [0.],\n",
              "         [0.],\n",
              "         ...,\n",
              "         [0.],\n",
              "         [0.],\n",
              "         [0.]]],\n",
              "\n",
              "\n",
              "       [[[0.],\n",
              "         [0.],\n",
              "         [0.],\n",
              "         ...,\n",
              "         [0.],\n",
              "         [0.],\n",
              "         [0.]],\n",
              "\n",
              "        [[0.],\n",
              "         [0.],\n",
              "         [0.],\n",
              "         ...,\n",
              "         [0.],\n",
              "         [0.],\n",
              "         [0.]],\n",
              "\n",
              "        [[0.],\n",
              "         [0.],\n",
              "         [0.],\n",
              "         ...,\n",
              "         [0.],\n",
              "         [0.],\n",
              "         [0.]],\n",
              "\n",
              "        ...,\n",
              "\n",
              "        [[0.],\n",
              "         [0.],\n",
              "         [0.],\n",
              "         ...,\n",
              "         [0.],\n",
              "         [0.],\n",
              "         [0.]],\n",
              "\n",
              "        [[0.],\n",
              "         [0.],\n",
              "         [0.],\n",
              "         ...,\n",
              "         [0.],\n",
              "         [0.],\n",
              "         [0.]],\n",
              "\n",
              "        [[0.],\n",
              "         [0.],\n",
              "         [0.],\n",
              "         ...,\n",
              "         [0.],\n",
              "         [0.],\n",
              "         [0.]]],\n",
              "\n",
              "\n",
              "       [[[0.],\n",
              "         [0.],\n",
              "         [0.],\n",
              "         ...,\n",
              "         [0.],\n",
              "         [0.],\n",
              "         [0.]],\n",
              "\n",
              "        [[0.],\n",
              "         [0.],\n",
              "         [0.],\n",
              "         ...,\n",
              "         [0.],\n",
              "         [0.],\n",
              "         [0.]],\n",
              "\n",
              "        [[0.],\n",
              "         [0.],\n",
              "         [0.],\n",
              "         ...,\n",
              "         [0.],\n",
              "         [0.],\n",
              "         [0.]],\n",
              "\n",
              "        ...,\n",
              "\n",
              "        [[0.],\n",
              "         [0.],\n",
              "         [0.],\n",
              "         ...,\n",
              "         [0.],\n",
              "         [0.],\n",
              "         [0.]],\n",
              "\n",
              "        [[0.],\n",
              "         [0.],\n",
              "         [0.],\n",
              "         ...,\n",
              "         [0.],\n",
              "         [0.],\n",
              "         [0.]],\n",
              "\n",
              "        [[0.],\n",
              "         [0.],\n",
              "         [0.],\n",
              "         ...,\n",
              "         [0.],\n",
              "         [0.],\n",
              "         [0.]]]], dtype=float32)"
            ]
          },
          "metadata": {},
          "execution_count": 21
        }
      ]
    },
    {
      "cell_type": "code",
      "source": [
        "print(\"The Shape of X_train = \" , x_train.shape)\n",
        "\n",
        "print(\"The Shape of X_test = \" , x_test.shape)"
      ],
      "metadata": {
        "colab": {
          "base_uri": "https://localhost:8080/"
        },
        "id": "jZPNe33FzrhG",
        "outputId": "e554f580-5343-48d5-e41c-58258682a262"
      },
      "execution_count": null,
      "outputs": [
        {
          "output_type": "stream",
          "name": "stdout",
          "text": [
            "The Shape of X_train =  (60000, 28, 28, 1)\n",
            "The Shape of X_test =  (10000, 28, 28, 1)\n"
          ]
        }
      ]
    },
    {
      "cell_type": "markdown",
      "source": [
        "# **MNIST Ploting**"
      ],
      "metadata": {
        "id": "coGiXhhh0Ob4"
      }
    },
    {
      "cell_type": "code",
      "source": [
        "#Plot Figure\n",
        "fig, axes = plt.subplots(nrows = 5 , ncols = 5 , figsize=(10, 10))\n",
        "for i, ax in enumerate(axes.flatten()):\n",
        "        ax.imshow(x_train[i], cmap='Oranges_r')\n",
        "        ax.set_title(f\"Label: {y_train[i]}\")\n",
        "plt.tight_layout()\n",
        "plt.show()"
      ],
      "metadata": {
        "colab": {
          "base_uri": "https://localhost:8080/",
          "height": 1000
        },
        "id": "_Y6AkCGCz20Q",
        "outputId": "db5c5ae6-aac1-4658-acd2-1ca9e2a647d2"
      },
      "execution_count": null,
      "outputs": [
        {
          "output_type": "display_data",
          "data": {
            "text/plain": [
              "<Figure size 1000x1000 with 25 Axes>"
            ],
            "image/png": "[encoded data removed]"
          },
          "metadata": {}
        }
      ]
    },
    {
      "cell_type": "markdown",
      "source": [
        "# **Split the Training Data into Training and Validation**"
      ],
      "metadata": {
        "id": "5WbKJNq20oZ6"
      }
    },
    {
      "cell_type": "code",
      "source": [
        "(x_train , x_vald , y_train , y_vald) = train_test_split(x_train , y_train , test_size = 0.2 , random_state = 42)"
      ],
      "metadata": {
        "id": "h4RxPguJ0zSB"
      },
      "execution_count": null,
      "outputs": []
    },
    {
      "cell_type": "markdown",
      "source": [
        "# **LeNet-5 Architecture**"
      ],
      "metadata": {
        "id": "Uirw4mZJA2nM"
      }
    },
    {
      "cell_type": "code",
      "source": [
        "model = Sequential([\n",
        "    Conv2D(6, kernel_size = (5, 5) , activation ='tanh', input_shape=(28, 28, 1)),\n",
        "    AveragePooling2D(),\n",
        "    Conv2D(16, kernel_size=(5, 5), activation='tanh'),\n",
        "    AveragePooling2D(),\n",
        "    Flatten(),\n",
        "    Dense(120, activation='tanh'),\n",
        "    Dense(84, activation='tanh'),\n",
        "    Dense(10, activation='softmax')\n",
        "])"
      ],
      "metadata": {
        "id": "rLnCvy_lA8xc"
      },
      "execution_count": null,
      "outputs": []
    },
    {
      "cell_type": "markdown",
      "source": [
        "![LeNet.png](data:image/png;base64,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)"
      ],
      "metadata": {
        "id": "Ra_HC1ZjrVzn"
      }
    },
    {
      "cell_type": "markdown",
      "source": [
        "# **Print LeNet-5 architecture**"
      ],
      "metadata": {
        "id": "Kngo3jdILPgQ"
      }
    },
    {
      "cell_type": "code",
      "source": [
        "print(\"The LeNet Architecture is: \")\n",
        "model.summary()"
      ],
      "metadata": {
        "colab": {
          "base_uri": "https://localhost:8080/"
        },
        "id": "CPr1aMJyLTHr",
        "outputId": "1cbea334-4d3f-4fa6-958e-e5e591ddb70a"
      },
      "execution_count": null,
      "outputs": [
        {
          "output_type": "stream",
          "name": "stdout",
          "text": [
            "The LeNet Architecture is: \n",
            "Model: \"sequential_1\"\n",
            "_________________________________________________________________\n",
            " Layer (type)                Output Shape              Param #   \n",
            "=================================================================\n",
            " conv2d_2 (Conv2D)           (None, 24, 24, 6)         156       \n",
            "                                                                 \n",
            " average_pooling2d_2 (Avera  (None, 12, 12, 6)         0         \n",
            " gePooling2D)                                                    \n",
            "                                                                 \n",
            " conv2d_3 (Conv2D)           (None, 8, 8, 16)          2416      \n",
            "                                                                 \n",
            " average_pooling2d_3 (Avera  (None, 4, 4, 16)          0         \n",
            " gePooling2D)                                                    \n",
            "                                                                 \n",
            " flatten_1 (Flatten)         (None, 256)               0         \n",
            "                                                                 \n",
            " dense_3 (Dense)             (None, 120)               30840     \n",
            "                                                                 \n",
            " dense_4 (Dense)             (None, 84)                10164     \n",
            "                                                                 \n",
            " dense_5 (Dense)             (None, 10)                850       \n",
            "                                                                 \n",
            "=================================================================\n",
            "Total params: 44426 (173.54 KB)\n",
            "Trainable params: 44426 (173.54 KB)\n",
            "Non-trainable params: 0 (0.00 Byte)\n",
            "_________________________________________________________________\n"
          ]
        }
      ]
    },
    {
      "cell_type": "markdown",
      "source": [
        "# **The Model Training**"
      ],
      "metadata": {
        "id": "nA_VS_aKOFAJ"
      }
    },
    {
      "cell_type": "code",
      "source": [
        "# Compile the model using Adam Optimizer\n",
        "model.compile(loss='sparse_categorical_crossentropy', optimizer='adam', metrics=['accuracy'])\n",
        "\n",
        "# Train the model\n",
        "model.fit(x_train, y_train, validation_data=(x_vald, y_vald), epochs=10, batch_size=128)\n"
      ],
      "metadata": {
        "colab": {
          "base_uri": "https://localhost:8080/"
        },
        "id": "2eogZTs1OIp2",
        "outputId": "685fb486-32e1-4de0-c18a-1766946aca06"
      },
      "execution_count": null,
      "outputs": [
        {
          "output_type": "stream",
          "name": "stdout",
          "text": [
            "Epoch 1/10\n",
            "375/375 [==============================] - 22s 55ms/step - loss: 0.4182 - accuracy: 0.8785 - val_loss: 0.1953 - val_accuracy: 0.9431\n",
            "Epoch 2/10\n",
            "375/375 [==============================] - 20s 54ms/step - loss: 0.1542 - accuracy: 0.9544 - val_loss: 0.1190 - val_accuracy: 0.9651\n",
            "Epoch 3/10\n",
            "375/375 [==============================] - 20s 54ms/step - loss: 0.1017 - accuracy: 0.9693 - val_loss: 0.0876 - val_accuracy: 0.9742\n",
            "Epoch 4/10\n",
            "375/375 [==============================] - 19s 51ms/step - loss: 0.0751 - accuracy: 0.9771 - val_loss: 0.0725 - val_accuracy: 0.9775\n",
            "Epoch 5/10\n",
            "375/375 [==============================] - 22s 59ms/step - loss: 0.0584 - accuracy: 0.9817 - val_loss: 0.0671 - val_accuracy: 0.9797\n",
            "Epoch 6/10\n",
            "375/375 [==============================] - 21s 55ms/step - loss: 0.0502 - accuracy: 0.9846 - val_loss: 0.0629 - val_accuracy: 0.9806\n",
            "Epoch 7/10\n",
            "375/375 [==============================] - 19s 52ms/step - loss: 0.0393 - accuracy: 0.9879 - val_loss: 0.0558 - val_accuracy: 0.9847\n",
            "Epoch 8/10\n",
            "375/375 [==============================] - 22s 59ms/step - loss: 0.0340 - accuracy: 0.9897 - val_loss: 0.0546 - val_accuracy: 0.9845\n",
            "Epoch 9/10\n",
            "375/375 [==============================] - 19s 51ms/step - loss: 0.0288 - accuracy: 0.9913 - val_loss: 0.0516 - val_accuracy: 0.9852\n",
            "Epoch 10/10\n",
            "375/375 [==============================] - 20s 54ms/step - loss: 0.0243 - accuracy: 0.9925 - val_loss: 0.0521 - val_accuracy: 0.9848\n"
          ]
        },
        {
          "output_type": "execute_result",
          "data": {
            "text/plain": [
              "<keras.src.callbacks.History at 0x790656ee5ed0>"
            ]
          },
          "metadata": {},
          "execution_count": 27
        }
      ]
    },
    {
      "cell_type": "markdown",
      "source": [
        "# **Number of Trainable parameters in each layer**"
      ],
      "metadata": {
        "id": "dwitzV9vQmxG"
      }
    },
    {
      "cell_type": "code",
      "source": [
        "for layer in model.layers:\n",
        "  print(\"The number of trainable Parameters = \" , layer.name , layer.count_params())"
      ],
      "metadata": {
        "colab": {
          "base_uri": "https://localhost:8080/"
        },
        "id": "CcoPEWUHQqBg",
        "outputId": "8048990b-fff6-4333-a73b-9dcb12f8ce2b"
      },
      "execution_count": null,
      "outputs": [
        {
          "output_type": "stream",
          "name": "stdout",
          "text": [
            "The number of trainable Parameters =  conv2d_2 156\n",
            "The number of trainable Parameters =  average_pooling2d_2 0\n",
            "The number of trainable Parameters =  conv2d_3 2416\n",
            "The number of trainable Parameters =  average_pooling2d_3 0\n",
            "The number of trainable Parameters =  flatten_1 0\n",
            "The number of trainable Parameters =  dense_3 30840\n",
            "The number of trainable Parameters =  dense_4 10164\n",
            "The number of trainable Parameters =  dense_5 850\n"
          ]
        }
      ]
    },
    {
      "cell_type": "markdown",
      "source": [
        "# **Confusion matrix relative to testing samples**"
      ],
      "metadata": {
        "id": "5lwCU2RFYjP-"
      }
    },
    {
      "cell_type": "code",
      "source": [
        "# Testing\n",
        "y_pred = model.predict(x_test)\n",
        "y_pred_classes = np.argmax(y_pred, axis=1)\n",
        "\n",
        "# Confusion matrix\n",
        "conf_matrix = confusion_matrix(y_test, y_pred_classes)\n",
        "print(\"Confusion Matrix:\")\n",
        "print(conf_matrix)"
      ],
      "metadata": {
        "colab": {
          "base_uri": "https://localhost:8080/"
        },
        "id": "V7jXMbidY5Ce",
        "outputId": "546bb60c-4f3f-413e-e1c9-774e7c56ff6d"
      },
      "execution_count": null,
      "outputs": [
        {
          "output_type": "stream",
          "name": "stdout",
          "text": [
            "313/313 [==============================] - 2s 6ms/step\n",
            "Confusion Matrix:\n",
            "[[ 974    0    1    0    0    0    2    1    2    0]\n",
            " [   0 1128    0    1    0    1    2    1    2    0]\n",
            " [   1    1 1019    2    1    0    0    7    1    0]\n",
            " [   0    0    5  995    0    4    0    2    3    1]\n",
            " [   0    1    3    0  968    0    2    2    0    6]\n",
            " [   2    0    0   10    0  877    2    1    0    0]\n",
            " [   5    3    1    1    2    1  945    0    0    0]\n",
            " [   1    2    6    1    0    0    0 1016    1    1]\n",
            " [   3    0    6    6    1    5    2    6  943    2]\n",
            " [   1    2    1    3   12    1    0   11    2  976]]\n"
          ]
        }
      ]
    },
    {
      "cell_type": "markdown",
      "source": [
        "# **Precision, Recall, and f1_score**"
      ],
      "metadata": {
        "id": "VdcYM9v1a8Ho"
      }
    },
    {
      "cell_type": "code",
      "source": [
        "precision, recall, f1_score, _ = precision_recall_fscore_support(y_test, y_pred_classes, average='weighted')\n",
        "print(f\"Precision: {precision}\")\n",
        "print(f\"Recall: {recall}\")\n",
        "print(f\"F1 Score: {f1_score}\")"
      ],
      "metadata": {
        "colab": {
          "base_uri": "https://localhost:8080/"
        },
        "id": "-y6KZfPFcDe_",
        "outputId": "f61a2b56-f82d-478e-cc79-d21fc7e251a7"
      },
      "execution_count": null,
      "outputs": [
        {
          "output_type": "stream",
          "name": "stdout",
          "text": [
            "Precision: 0.984160002938714\n",
            "Recall: 0.9841\n",
            "F1 Score: 0.9840919775054872\n"
          ]
        }
      ]
    },
    {
      "cell_type": "markdown",
      "source": [
        "#**Results and Our Comments**"
      ],
      "metadata": {
        "id": "uc1K82ZUcRR3"
      }
    },
    {
      "cell_type": "markdown",
      "source": [
        "LeNet-5 is a convolutional neural network (CNN) architecture it Specifically Created for Handwritten digit Recognition\n",
        "\n",
        "**The Architecture of LeNet consists of:**\n",
        "\n",
        "1-CNN Layers\n",
        "\n",
        "2- Pooling Layers\n",
        "\n",
        "3- Fully Connected Layers\n",
        "\n",
        "\n",
        "\n",
        "\n",
        "**Accuracy:**\n",
        "\n",
        "\n",
        "-The Accuracy of this MNIST is High because The architecture of LeNet was primarily designed and trained for handwritten digit (0 : 9) which consists of grayscale images.\n",
        "\n",
        "\n",
        "-The Accuracy of this RGB Images is low because The architecture of LeNet was primarily designed and trained for handwritten digit (0 : 9) which consists of grayscale images.\n",
        "\n",
        "\n",
        "\n",
        "\n",
        "\n",
        "\n",
        "**LeNet with GrayScaled vs LeNet with RGB:**\n",
        "\n",
        "\n",
        "\n",
        "When LeNet is applied to grayscale images, it performs well due to several reasons:\n",
        "\n",
        "\n",
        "\n",
        "**Architecture Suitability:** LeNet's architecture is specifically designed for simple feature extraction in two-dimensional images. It was built to identify simple patterns present in handwritten digits.\n",
        "\n",
        "\n",
        "**Training Data Compatibility:** LeNet was trained on the MNIST dataset, which consists of 28x28 grayscale images. The network was optimized for this type of data during its training, making it highly effective for similar grayscale data.\n",
        "\n",
        "\n",
        "\n",
        "**Simplicity of Features:** Handwritten digits in grayscale have simpler features compared to colored images. The absence of color reduces the complexity of the input, making it easier for the network to learn and recognize patterns.\n",
        "\n",
        "\n",
        "\n",
        "\n",
        "However, when LeNet is used for RGB images, especially in tasks where the network was not specifically designed or trained for this type of data, there might be challenges and limitations:\n",
        "\n",
        "\n",
        "\n",
        "**Architecture Limitations:**LeNet's architecture might not be complex or deep enough to effectively learn intricate features present in RGB images. It might struggle to capture the complexity of three-channel RGB data.\n",
        "\n",
        "\n",
        "\n",
        "**Different Feature Representation:** Color images contain more information and complexity due to the additional channels. The network might require a deeper architecture and possibly more parameters to adequately learn and represent these complex features.\n",
        "\n",
        "\n",
        "\n",
        "**Training on Grayscale Data:** Networks like LeNet, which were trained on grayscale data, might not generalize well to RGB data due to the differences in the patterns and features it learned during training.\n"
      ],
      "metadata": {
        "id": "A8iSUWvPcXBd"
      }
    },
    {
      "cell_type": "markdown",
      "source": [
        "in The LeNet Architecture we used tanh because when Yenn LeNet created this architecture he found tanh is more suitable for this architecture and the accurecy score is high...but also we could use any other acctivation function.\n",
        "\n",
        "\n",
        "\n",
        "we used Average pooling instead of max pooling for the same reasone and Average pooling tends to provide some degree of noise suppression in the feature maps, making the network more robust against overfitting. It averages the values within the pooling window, reducing the impact of outlier values compared to max pooling, which takes the maximum value.\n",
        "\n",
        "\n",
        "Average pooling can have a slight smoothing effect on the feature maps. This can help in retaining essential information and generalizing better to unseen data, which might be particularly useful in scenarios where noise or small variations are present.\n",
        "\n",
        "\n",
        "Max pooling can be more prone to losing information since it only keeps the most significant feature within the pooling window. In some cases, particularly with shallower networks or specific datasets, average pooling might lead to more stable training dynamics and learning convergence."
      ],
      "metadata": {
        "id": "ObFxHMR4-tQC"
      }
    }
  ]
}